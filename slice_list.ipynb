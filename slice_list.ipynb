{
  "nbformat": 4,
  "nbformat_minor": 0,
  "metadata": {
    "colab": {
      "provenance": []
    },
    "kernelspec": {
      "name": "python3",
      "display_name": "Python 3"
    },
    "language_info": {
      "name": "python"
    }
  },
  "cells": [
    {
      "cell_type": "code",
      "execution_count": null,
      "metadata": {
        "id": "QquVZ74AFCnp"
      },
      "outputs": [],
      "source": []
    },
    {
      "cell_type": "markdown",
      "source": [
        "#List slicing\n"
      ],
      "metadata": {
        "id": "G0iVlKmNFLur"
      }
    },
    {
      "cell_type": "code",
      "source": [
        "players = ['one','two','three','four','five']\n",
        "print(players[1])\n",
        "print(players)\n",
        "print(type(players))\n",
        "print(players[1:3])"
      ],
      "metadata": {
        "colab": {
          "base_uri": "https://localhost:8080/"
        },
        "id": "vxNflm6cFiDu",
        "outputId": "74cf8d42-26e2-4fea-9221-cf65b83b654b"
      },
      "execution_count": null,
      "outputs": [
        {
          "output_type": "stream",
          "name": "stdout",
          "text": [
            "two\n"
          ]
        }
      ]
    },
    {
      "cell_type": "code",
      "source": [
        "print(players[0:1])\n",
        "print(players[:3])"
      ],
      "metadata": {
        "colab": {
          "base_uri": "https://localhost:8080/"
        },
        "id": "yLZousyYGX0Z",
        "outputId": "04009a8d-cdd4-49f1-ccbd-f9968ddc78cb"
      },
      "execution_count": null,
      "outputs": [
        {
          "output_type": "stream",
          "name": "stdout",
          "text": [
            "['one']\n",
            "['one', 'two', 'three']\n"
          ]
        }
      ]
    },
    {
      "cell_type": "code",
      "source": [
        "print(players[:])\n",
        "print(players[2:])\n"
      ],
      "metadata": {
        "colab": {
          "base_uri": "https://localhost:8080/"
        },
        "id": "A00h-sh9G0LR",
        "outputId": "3e033bcc-5e3c-4645-a86f-c82e4b034a25"
      },
      "execution_count": null,
      "outputs": [
        {
          "output_type": "stream",
          "name": "stdout",
          "text": [
            "['one', 'two', 'three', 'four', 'five']\n",
            "['three', 'four', 'five']\n"
          ]
        }
      ]
    },
    {
      "cell_type": "code",
      "source": [
        "print(players[-1:-2])\n",
        "print(players[-1:-4])\n",
        "print(players[-1:2])\n",
        "print(players[-1])\n",
        "print(players[:-1])"
      ],
      "metadata": {
        "colab": {
          "base_uri": "https://localhost:8080/"
        },
        "id": "r2lTRsMjHLF4",
        "outputId": "45e774bb-c110-4660-b6c9-b0ae19e18822"
      },
      "execution_count": null,
      "outputs": [
        {
          "output_type": "stream",
          "name": "stdout",
          "text": [
            "[]\n",
            "[]\n",
            "[]\n",
            "five\n",
            "['one', 'two', 'three', 'four']\n"
          ]
        }
      ]
    },
    {
      "cell_type": "code",
      "source": [
        "print(players[:-2])"
      ],
      "metadata": {
        "colab": {
          "base_uri": "https://localhost:8080/"
        },
        "id": "iDWo4hBdIHUD",
        "outputId": "0afae2df-57f8-4657-abd8-c26273642e1b"
      },
      "execution_count": null,
      "outputs": [
        {
          "output_type": "stream",
          "name": "stdout",
          "text": [
            "['one', 'two', 'three']\n"
          ]
        }
      ]
    },
    {
      "cell_type": "code",
      "source": [
        "print(players[-3:])"
      ],
      "metadata": {
        "colab": {
          "base_uri": "https://localhost:8080/"
        },
        "id": "4xq0zRqaIKxd",
        "outputId": "884e1749-cc37-485c-f3c2-997c80a3a6d2"
      },
      "execution_count": null,
      "outputs": [
        {
          "output_type": "stream",
          "name": "stdout",
          "text": [
            "['three', 'four', 'five']\n"
          ]
        }
      ]
    },
    {
      "cell_type": "code",
      "source": [
        "first_index = -5\n",
        "print(players[first_index])\n"
      ],
      "metadata": {
        "colab": {
          "base_uri": "https://localhost:8080/"
        },
        "id": "0C7UtCICIbJq",
        "outputId": "422dab82-32bb-4949-aa72-bbf3a01eddab"
      },
      "execution_count": null,
      "outputs": [
        {
          "output_type": "stream",
          "name": "stdout",
          "text": [
            "one\n"
          ]
        }
      ]
    },
    {
      "cell_type": "code",
      "source": [
        "#palindromono = oso, anitalavalatina\n",
        "players.append('six')\n",
        "players.append('seven')\n",
        "players.append('eigth')\n",
        "players.append('nine')\n",
        "players.append('ten')"
      ],
      "metadata": {
        "id": "_ib-hBa-Ix_P"
      },
      "execution_count": null,
      "outputs": []
    },
    {
      "cell_type": "code",
      "source": [
        "print(players)\n",
        "print(players[::2])\n"
      ],
      "metadata": {
        "colab": {
          "base_uri": "https://localhost:8080/"
        },
        "id": "dGfF3Xn4J8xO",
        "outputId": "aa95fb85-b09c-48e9-842c-d8771a836de5"
      },
      "execution_count": null,
      "outputs": [
        {
          "output_type": "stream",
          "name": "stdout",
          "text": [
            "['one', 'two', 'three', 'four', 'five', 'six', 'seven', 'eigth', 'nine', 'ten', 'six', 'seven', 'eigth', 'nine', 'ten']\n",
            "['one', 'three', 'five', 'seven', 'nine', 'six', 'eigth', 'ten']\n"
          ]
        }
      ]
    },
    {
      "cell_type": "code",
      "source": [
        "print(players)\n",
        "print(players[::4])\n",
        "print(players[3:9:2])\n",
        "print(players[::2])\n",
        "print(players[1::2])"
      ],
      "metadata": {
        "colab": {
          "base_uri": "https://localhost:8080/"
        },
        "id": "1O9NkIICKWop",
        "outputId": "9b6c8079-10c0-4ec6-8fd9-62b423220ad4"
      },
      "execution_count": null,
      "outputs": [
        {
          "output_type": "stream",
          "name": "stdout",
          "text": [
            "['one', 'two', 'three', 'four', 'five', 'six', 'seven', 'eigth', 'nine', 'ten', 'six', 'seven', 'eigth', 'nine', 'ten']\n",
            "['one', 'five', 'nine', 'eigth']\n",
            "['four', 'six', 'eigth']\n",
            "['one', 'three', 'five', 'seven', 'nine', 'six', 'eigth', 'ten']\n",
            "['two', 'four', 'six', 'eigth', 'ten', 'seven', 'nine']\n"
          ]
        }
      ]
    },
    {
      "cell_type": "code",
      "source": [
        "numbers= list(range(0,10))\n",
        "print(numbers)\n",
        "print(len(numbers))\n",
        "\n",
        "print(numbers[::-1])"
      ],
      "metadata": {
        "colab": {
          "base_uri": "https://localhost:8080/"
        },
        "id": "CGLRv621LJW8",
        "outputId": "ba5c4129-3d16-47f1-9cf9-b8f827cdbfe3"
      },
      "execution_count": null,
      "outputs": [
        {
          "output_type": "stream",
          "name": "stdout",
          "text": [
            "[0, 1, 2, 3, 4, 5, 6, 7, 8, 9]\n",
            "10\n",
            "[9, 8, 7, 6, 5, 4, 3, 2, 1, 0]\n"
          ]
        }
      ]
    },
    {
      "cell_type": "code",
      "source": [
        "word= 'anitalavalatina'\n",
        "word ==word [::-1]\n"
      ],
      "metadata": {
        "colab": {
          "base_uri": "https://localhost:8080/"
        },
        "id": "EX54_bQTMX5b",
        "outputId": "4281511e-d266-433c-c3c0-c53324517035"
      },
      "execution_count": null,
      "outputs": [
        {
          "output_type": "execute_result",
          "data": {
            "text/plain": [
              "True"
            ]
          },
          "metadata": {},
          "execution_count": 28
        }
      ]
    }
  ]
}