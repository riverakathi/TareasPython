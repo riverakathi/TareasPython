{
  "nbformat": 4,
  "nbformat_minor": 0,
  "metadata": {
    "colab": {
      "provenance": []
    },
    "kernelspec": {
      "name": "python3",
      "display_name": "Python 3"
    },
    "language_info": {
      "name": "python"
    }
  },
  "cells": [
    {
      "cell_type": "markdown",
      "source": [
        "#HANGMAN\n",
        "###1. MAQUINA ESCOGE ESCOJA LA PALABRA\n",
        "###2. INGRESAR LETRA\n",
        "###3. SI ACIERTA SE COMPLETA UN ESPACIO\n",
        "###4. SI SE EQUIVOCA PIERDE UNA VIDA\n",
        "###5. SI SE ACERTAN LAS PALABRAS SE GANA EL JUEGO"
      ],
      "metadata": {
        "id": "UV4CVYEqIQpR"
      }
    },
    {
      "cell_type": "code",
      "source": [
        "import random;\n",
        "from words import words;\n",
        "\n",
        "print(words)\n",
        "\n",
        "def get_valid_word(words):\n",
        "  word = random.choice(words)\n",
        "  return word.upper()\n",
        "get_valid_word(words[0:5])\n",
        "\n",
        "letters = \"ABCDEFABCDABCD\"\n",
        "print(set(letters))\n",
        "\n",
        "letters_A = {'A','B','C','D','E'}\n",
        "letters_B = {'A','B'}\n",
        "print(letters_A - letters_B)\n",
        "\n",
        "import string\n",
        "\n",
        "def hangman():\n",
        "    word = get_valid_word(words)\n",
        "    # Muestra la palabra seleccionada solo para propósitos de depuración.\n",
        "    print(\"Disclaimer: this code does not appear in the game: \", word)\n",
        "    # Muestra el estado inicial de la palabra con guiones bajos.\n",
        "    print(\"Your letter is: \", \" _\" * len(word))\n",
        "\n",
        "    word_letters = set(word)  # Letras únicas en la palabra.\n",
        "    alphabet = set(string.ascii_uppercase)  # Conjunto de letras del alfabeto.\n",
        "    used_letters = set()  # Letras que el usuario ha adivinado.\n",
        "    lives = 6  # Número de vidas iniciales.\n",
        "\n",
        "    while len(word_letters) > 0 and lives > 0:\n",
        "        # Muestra el estado actual de la palabra.\n",
        "        word_list = (letter if letter in used_letters else \" _\" for letter in word)\n",
        "        print(\"Current Word: \", ' '.join(word_list))\n",
        "\n",
        "        user_letter = input(\"Guess a letter: \").upper()  # Solicita una letra al usuario y la convierte a mayúscula.\n",
        "\n",
        "        if user_letter in alphabet - used_letters:\n",
        "            used_letters.add(user_letter)\n",
        "            if user_letter in word_letters:\n",
        "                word_letters.remove(user_letter)\n",
        "            else:\n",
        "                lives -= 1\n",
        "                print(\"You lose a life, master chief!!\")\n",
        "\n",
        "        elif user_letter in used_letters:\n",
        "            print(\"The letter has been used, please try again\")\n",
        "\n",
        "        else:\n",
        "            print(\"Invalid character, please try again.\")\n",
        "\n",
        "        # Muestra las vidas restantes y las letras usadas.\n",
        "        print(\"Your lives: \", lives)\n",
        "        print(\"Used Letters: \", ' '.join(sorted(used_letters)))\n",
        "\n",
        "    # Mensaje final dependiendo de si el usuario ganó o perdió.\n",
        "    if lives == 0:\n",
        "        print(\"The word was:\", word, \"Take the L, LOSER\")\n",
        "    else:\n",
        "        print(\"YOU WIN! The word is: \", word)\n",
        "\n",
        "# La función hangman() requiere que definas `words` y `get_valid_word()`.\n",
        "# Asegúrate de tener estas definiciones en tu código completo.\n",
        "hangman()\n",
        "\n",
        "#Daniel Jimenez Manrique\n"
      ],
      "metadata": {
        "colab": {
          "base_uri": "https://localhost:8080/"
        },
        "id": "BEgCe103Fkdn",
        "outputId": "26358cac-1d1e-4967-a843-4eb1213a8d38"
      },
      "execution_count": null,
      "outputs": [
        {
          "output_type": "stream",
          "name": "stdout",
          "text": [
            "['aback', 'abaft', 'abandoned']\n"
          ]
        }
      ]
    }
  ]
}