{
  "nbformat": 4,
  "nbformat_minor": 0,
  "metadata": {
    "colab": {
      "provenance": []
    },
    "kernelspec": {
      "name": "python3",
      "display_name": "Python 3"
    },
    "language_info": {
      "name": "python"
    }
  },
  "cells": [
    {
      "cell_type": "code",
      "execution_count": null,
      "metadata": {
        "colab": {
          "base_uri": "https://localhost:8080/"
        },
        "id": "YlJoPAAqEYCb",
        "outputId": "e50a523a-92dc-46d3-f057-84fc91f4857a"
      },
      "outputs": [
        {
          "output_type": "stream",
          "name": "stdout",
          "text": [
            "Eduardo Alexis\n",
            "['one', 'two', 'three'] \n",
            "['one', 'two', 'three']\n",
            "['Alexis', 'two', 'three'] \n",
            "['Alexis', 'two', 'three']\n"
          ]
        }
      ],
      "source": [
        "#Copia una variable\n",
        "nombre = 'Alexis'\n",
        "nombre2= nombre\n",
        "nombre = 'Eduardo'\n",
        "\n",
        "print(nombre,nombre2)\n",
        "\n",
        "\n",
        "numbers = ['one','two','three']\n",
        "numbers_two=numbers\n",
        "\n",
        "print(numbers,numbers_two, sep=' \\n')\n",
        "numbers[0] = 'Alexis' #solo esta modificando la primera lista\n",
        "\n",
        "print(numbers,numbers_two, sep=' \\n')\n"
      ]
    },
    {
      "cell_type": "code",
      "source": [
        "numbers = ['one','two','three']\n",
        "numbers_copy=numbers.copy()\n",
        "\n",
        "numbers[0] = 'Alexis' #solo esta modificando la primera lista\n",
        "\n",
        "print(numbers,numbers_copy, sep=' \\n')"
      ],
      "metadata": {
        "colab": {
          "base_uri": "https://localhost:8080/"
        },
        "id": "fdLXzohHI44G",
        "outputId": "09519333-327c-4b3b-856f-bad83fd8096c"
      },
      "execution_count": null,
      "outputs": [
        {
          "output_type": "stream",
          "name": "stdout",
          "text": [
            "['Alexis', 'two', 'three'] \n",
            "['one', 'two', 'three']\n"
          ]
        }
      ]
    },
    {
      "cell_type": "code",
      "source": [
        "numbers= ['one','two','three']\n",
        "numbers_copy=numbers[:]\n",
        "\n",
        "numbers[0] = 'Alexis'\n",
        "\n",
        "print(numbers,numbers_copy, sep=' \\n')"
      ],
      "metadata": {
        "colab": {
          "base_uri": "https://localhost:8080/"
        },
        "id": "6Z35CZcmJYaW",
        "outputId": "474a6f75-a5b0-4e2b-ab5f-a9b33c38af50"
      },
      "execution_count": null,
      "outputs": [
        {
          "output_type": "stream",
          "name": "stdout",
          "text": [
            "['Alexis', 'two', 'three'] \n",
            "['one', 'two', 'three']\n"
          ]
        }
      ]
    },
    {
      "cell_type": "code",
      "source": [
        "#Marge list\n",
        "numbers_one=[1,2,3]\n",
        "numbers_two=[4,5,6]\n",
        "\n",
        "numbers= numbers_one + numbers_two\n",
        "print(numbers)\n",
        "\n"
      ],
      "metadata": {
        "colab": {
          "base_uri": "https://localhost:8080/"
        },
        "id": "tCo6ls1XJrA7",
        "outputId": "2a93317d-6893-4fbc-b067-53e9cbde980d"
      },
      "execution_count": null,
      "outputs": [
        {
          "output_type": "stream",
          "name": "stdout",
          "text": [
            "[1, 2, 3, 4, 5, 6]\n"
          ]
        }
      ]
    },
    {
      "cell_type": "code",
      "source": [
        "numbers_one=[1,2,3]\n",
        "numbers_two=[4,5,6]\n",
        "\n",
        "numbers= (numbers_one, numbers_two)\n",
        "print(numbers)"
      ],
      "metadata": {
        "colab": {
          "base_uri": "https://localhost:8080/"
        },
        "id": "hcSFjctTKcRV",
        "outputId": "fe89474e-b3fd-4564-8a7a-6fd39ad94ed6"
      },
      "execution_count": null,
      "outputs": [
        {
          "output_type": "stream",
          "name": "stdout",
          "text": [
            "([1, 2, 3], [4, 5, 6])\n"
          ]
        }
      ]
    },
    {
      "cell_type": "code",
      "source": [
        "numbers_one=[1,2,3]\n",
        "numbers_two=[4,5,6]\n",
        "\n",
        "numbers_one.extend (numbers_two)\n",
        "print(numbers_one)"
      ],
      "metadata": {
        "colab": {
          "base_uri": "https://localhost:8080/"
        },
        "id": "4WJNEmfuMTpM",
        "outputId": "21572236-e62f-44b0-c41a-77a7b6655f2b"
      },
      "execution_count": null,
      "outputs": [
        {
          "output_type": "stream",
          "name": "stdout",
          "text": [
            "([1, 2, 3], [4, 5, 6])\n"
          ]
        }
      ]
    },
    {
      "cell_type": "code",
      "source": [
        "#ciclo\n",
        "numbers_one=[1,2,3]\n",
        "numbers_two=[4,5,6]\n",
        "for numbers in numbers_two:\n",
        "  numbers_one.append(numbers)\n",
        "\n",
        "print(numbers_one)"
      ],
      "metadata": {
        "colab": {
          "base_uri": "https://localhost:8080/"
        },
        "id": "8RBYz26OK3V7",
        "outputId": "0ecc0d13-5962-4bd3-fc48-2351f9b78fe7"
      },
      "execution_count": null,
      "outputs": [
        {
          "output_type": "stream",
          "name": "stdout",
          "text": [
            "[1, 2, 3, 4, 5, 6]\n"
          ]
        }
      ]
    },
    {
      "cell_type": "code",
      "source": [
        "numbers_one=[1,2,3]\n",
        "numbers_two=[4,5,6]\n",
        "for numbers in (numbers_one,numbers_two):\n",
        "  print(numbers)\n",
        "\n",
        "for numbers in (numbers_one,numbers_two):\n",
        "  for n in numbers:\n",
        "    print(n)\n",
        "\n",
        "numbers= []\n",
        "for numbers in (numbers_one,numbers_two):\n",
        "  for n in numbers:\n",
        "    numbers.append(n)\n",
        "\n",
        "\n",
        "print(numbers)\n"
      ],
      "metadata": {
        "colab": {
          "base_uri": "https://localhost:8080/"
        },
        "id": "Ok-lS8-hMhWq",
        "outputId": "fafb4c29-8460-4988-d487-5ddf759e9a1e"
      },
      "execution_count": null,
      "outputs": [
        {
          "output_type": "stream",
          "name": "stdout",
          "text": [
            "[1, 2, 3]\n",
            "[4, 5, 6]\n",
            "1\n",
            "2\n",
            "3\n",
            "4\n",
            "5\n",
            "6\n"
          ]
        }
      ]
    },
    {
      "cell_type": "code",
      "source": [
        "#List comprehension\n",
        "\n",
        "numbers = [n for number in (numbers_one, numbers_two) for n in number]\n",
        "print(numbers)\n"
      ],
      "metadata": {
        "colab": {
          "base_uri": "https://localhost:8080/"
        },
        "id": "-q0pHHSIOq6x",
        "outputId": "88b9a467-396c-4da6-9717-e869c7caa38f"
      },
      "execution_count": null,
      "outputs": [
        {
          "output_type": "stream",
          "name": "stdout",
          "text": [
            "[1, 2, 3, 4, 5, 6]\n"
          ]
        }
      ]
    },
    {
      "cell_type": "code",
      "source": [
        "numbers_one=[1,2,3]\n",
        "numbers_two=[4,5,6]\n",
        "\n",
        "numbers = [*numbers_one, *numbers_two]\n",
        "print(numbers)"
      ],
      "metadata": {
        "colab": {
          "base_uri": "https://localhost:8080/"
        },
        "id": "R4KQK62FPzdu",
        "outputId": "ca868b80-660e-4444-e018-d63b9bc190b6"
      },
      "execution_count": null,
      "outputs": [
        {
          "output_type": "stream",
          "name": "stdout",
          "text": [
            "[1, 2, 3, 4, 5, 6]\n"
          ]
        }
      ]
    }
  ]
}